{
 "cells": [
  {
   "cell_type": "code",
   "execution_count": 1,
   "source": [
    "print(13333333)\n",
    "print(13333333)\n",
    "print(133333335)\n",
    "\n",
    "import os\n"
   ],
   "outputs": [
    {
     "output_type": "stream",
     "name": "stdout",
     "text": [
      "13333333\n",
      "13333333\n",
      "133333335\n"
     ]
    }
   ],
   "metadata": {
    "execution": {
     "iopub.execute_input": "2020-06-03T17:28:38.310392Z",
     "iopub.status.busy": "2020-06-03T17:28:38.310138Z",
     "iopub.status.idle": "2020-06-03T17:28:38.314294Z",
     "shell.execute_reply": "2020-06-03T17:28:38.313546Z",
     "shell.execute_reply.started": "2020-06-03T17:28:38.310363Z"
    },
    "tags": [],
    "vscode": {
     "end_execution_time": "2020-08-05T19:41:08.654Z",
     "start_execution_time": "2020-08-05T19:40:58.908Z"
    }
   }
  },
  {
   "cell_type": "code",
   "execution_count": 1,
   "source": [
    "#dd\n",
    "import sys\n",
    "sys.executable\n"
   ],
   "outputs": [],
   "metadata": {
    "vscode": {
     "end_execution_time": "2020-07-13T20:05:50.031Z",
     "start_execution_time": "2020-07-13T20:05:50.006Z"
    }
   }
  },
  {
   "cell_type": "code",
   "execution_count": 1,
   "source": [
    "#dd\n",
    "import sys\n",
    "sys.executable\n",
    "sys.executable\n",
    "sys.executable\n",
    "sys.executable"
   ],
   "outputs": [],
   "metadata": {
    "vscode": {
     "end_execution_time": "2020-07-08T17:59:53.598Z",
     "start_execution_time": "2020-07-08T17:59:53.557Z"
    }
   }
  },
  {
   "cell_type": "markdown",
   "source": [
    "[HelloWorld](command:python.setInterpreter)      "
   ],
   "metadata": {
    "vscode": {}
   }
  },
  {
   "cell_type": "code",
   "execution_count": null,
   "source": [
    "%%timeit -n 1 -r 1\n",
    "\n",
    "testvec2 = [[1] * 20] * 200\n",
    "for i, val in enumerate(testvec2):\n",
    "\ta = 1\n",
    "    #print(f\"Using print: {val}\")\n",
    "    #display(val)\n",
    "    # display(i)"
   ],
   "outputs": [],
   "metadata": {
    "tags": [],
    "vscode": {}
   }
  },
  {
   "cell_type": "code",
   "execution_count": 2,
   "source": [
    "a=1\n",
    "\n",
    "print(a)\n",
    "import time\n",
    "time.sleep(90.1)\n",
    "print(2)"
   ],
   "outputs": [],
   "metadata": {
    "tags": [],
    "vscode": {}
   }
  },
  {
   "cell_type": "code",
   "execution_count": null,
   "source": [
    "a=2"
   ],
   "outputs": [],
   "metadata": {
    "vscode": {}
   }
  },
  {
   "cell_type": "code",
   "execution_count": null,
   "source": [
    "a=1\n",
    "\n",
    "print(a)\n",
    "import time\n",
    "time.sleep(.1)\n",
    "print(2)"
   ],
   "outputs": [],
   "metadata": {
    "vscode": {}
   }
  },
  {
   "cell_type": "code",
   "execution_count": null,
   "source": [
    "a=1\n",
    "\n",
    "print(a)\n",
    "import time\n",
    "time.sleep(.1)\n",
    "print(2)"
   ],
   "outputs": [],
   "metadata": {
    "tags": [],
    "vscode": {}
   }
  },
  {
   "cell_type": "markdown",
   "source": [
    "# Cell 3"
   ],
   "metadata": {
    "vscode": {}
   }
  },
  {
   "cell_type": "code",
   "execution_count": null,
   "source": [
    "a=1"
   ],
   "outputs": [],
   "metadata": {
    "vscode": {}
   }
  },
  {
   "cell_type": "code",
   "execution_count": null,
   "source": [
    "a"
   ],
   "outputs": [],
   "metadata": {
    "vscode": {}
   }
  },
  {
   "cell_type": "code",
   "execution_count": null,
   "source": [
    "import time\n",
    "time.sleep(.5)\n",
    "print('a')"
   ],
   "outputs": [],
   "metadata": {
    "vscode": {}
   }
  },
  {
   "cell_type": "code",
   "execution_count": null,
   "source": [
    "import time\n",
    "time.sleep(.5)\n",
    "print('b')"
   ],
   "outputs": [],
   "metadata": {
    "vscode": {}
   }
  },
  {
   "cell_type": "code",
   "execution_count": null,
   "source": [
    "import time\n",
    "for i in range(10000):\n",
    "\ttime.sleep(0.1)\n",
    "\tprint(i)\n",
    "\n",
    "print('b')"
   ],
   "outputs": [],
   "metadata": {
    "vscode": {}
   }
  },
  {
   "cell_type": "code",
   "execution_count": null,
   "source": [
    "import sys\n",
    "sys.executable"
   ],
   "outputs": [],
   "metadata": {
    "vscode": {}
   }
  },
  {
   "cell_type": "code",
   "execution_count": null,
   "source": [
    "import ipywidgets as widgets\n",
    "s = widgets.IntSlider()\n",
    "s"
   ],
   "outputs": [],
   "metadata": {
    "vscode": {}
   }
  },
  {
   "cell_type": "code",
   "execution_count": null,
   "source": [
    "import nglview\n",
    "view = nglview.show_pdbid(\"3pqr\")\n",
    "view"
   ],
   "outputs": [],
   "metadata": {
    "scrolled": true,
    "vscode": {}
   }
  },
  {
   "cell_type": "code",
   "execution_count": null,
   "source": [],
   "outputs": [],
   "metadata": {
    "vscode": {}
   }
  },
  {
   "cell_type": "code",
   "execution_count": null,
   "source": [
    "#pip install requests jupyter notebook"
   ],
   "outputs": [],
   "metadata": {
    "vscode": {}
   }
  },
  {
   "cell_type": "code",
   "execution_count": null,
   "source": [
    "import matplotlib\n",
    "import time\n",
    "import numpy as np\n",
    "import matplotlib.pyplot as plt\n",
    "%matplotlib inline  \n",
    "x = np.linspace(0, 3*np.pi, 500)\n",
    "plt.plot(x, np.sin(x**2))\n",
    "plt.title('Plot1')\n",
    "plt.show()\n",
    "plt.show()\n",
    "\n",
    "#time.sleep(1)\n",
    "plt.title('Plot2')\n",
    "plt.show()"
   ],
   "outputs": [],
   "metadata": {
    "vscode": {}
   }
  },
  {
   "cell_type": "code",
   "execution_count": null,
   "source": [
    "#%%\n",
    "# To add a new cell, type '# %%'\n",
    "# To add a new markdown cell, type '# %% [markdown]'\n",
    "from pythreejs import *\n",
    "import ipywidgets\n",
    "from IPython.display import display"
   ],
   "outputs": [],
   "metadata": {
    "vscode": {}
   }
  },
  {
   "cell_type": "code",
   "execution_count": null,
   "source": [
    "%%timeit -n 1 -r 1\n",
    "\n",
    "testvec2 = [[1] * 20] * 200\n",
    "for i, val in enumerate(testvec2):\n",
    "    print(f\"Using print: {val}\")\n",
    "    display(val)"
   ],
   "outputs": [],
   "metadata": {
    "tags": [],
    "vscode": {}
   }
  },
  {
   "cell_type": "code",
   "execution_count": null,
   "source": [
    "for i in range(100):\n",
    "\timport time\n",
    "\ttime.sleep(1)\n",
    "\tprint(i)"
   ],
   "outputs": [],
   "metadata": {
    "vscode": {}
   }
  }
 ],
 "metadata": {
  "file_extension": ".py",
  "kernelspec": {
   "display_name": ".NET (C#)",
   "language": "python",
   "name": ".net-csharp"
  },
  "language_info": {
   "codemirror_mode": {
    "name": "ipython",
    "version": 3
   },
   "file_extension": ".py",
   "mimetype": "text/x-python",
   "name": "python",
   "nbconvert_exporter": "python",
   "pygments_lexer": "ipython3",
   "version": "3.8.2-final"
  },
  "mimetype": "text/x-python",
  "name": "python",
  "npconvert_exporter": "python",
  "pygments_lexer": "ipython3",
  "toc": {
   "base_numbering": 1,
   "nav_menu": {},
   "number_sections": false,
   "sideBar": false,
   "skip_h1_title": false,
   "title_cell": "Table of Contents",
   "title_sidebar": "Contents",
   "toc_cell": false,
   "toc_position": {},
   "toc_section_display": false,
   "toc_window_display": false
  },
  "version": 3
 },
 "nbformat": 4,
 "nbformat_minor": 4
}
